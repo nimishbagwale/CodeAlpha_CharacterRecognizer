{
 "cells": [
  {
   "cell_type": "code",
   "execution_count": 1,
   "id": "d4b53088",
   "metadata": {},
   "outputs": [
    {
     "name": "stdout",
     "output_type": "stream",
     "text": [
      "Prediction Accuracy: 85.98%\n",
      "\n"
     ]
    }
   ],
   "source": [
    "import pandas as pd\n",
    "import numpy as np\n",
    "import torch\n",
    "from torchvision import transforms\n",
    "from PIL import Image\n",
    "\n",
    "mapping = {}\n",
    "with open(\"dataset/emnist-byclass-mapping.txt\") as f:\n",
    "    for line in f:\n",
    "        label, ascii_code = line.strip().split()\n",
    "        mapping[int(label)] = chr(int(ascii_code))\n",
    "\n",
    "def label_to_char(label):\n",
    "    return mapping.get(label, None)\n",
    "\n",
    "# === Model Definition (same as training) ===\n",
    "import torch.nn as nn\n",
    "import torch.nn.functional as F\n",
    "\n",
    "class CNN(nn.Module):\n",
    "    def __init__(self, num_classes):\n",
    "        super(CNN, self).__init__()\n",
    "        self.conv1 = nn.Conv2d(1, 32, kernel_size=3)\n",
    "        self.bn1 = nn.BatchNorm2d(32)\n",
    "        self.pool1 = nn.MaxPool2d(2,2)\n",
    "        self.conv2 = nn.Conv2d(32, 64, kernel_size=3)\n",
    "        self.bn2 = nn.BatchNorm2d(64)\n",
    "        self.pool2 = nn.MaxPool2d(2,2)\n",
    "        self.flatten = nn.Flatten()\n",
    "        self.fc1 = nn.Linear(64 * 5 * 5, 128)\n",
    "        self.fc2 = nn.Linear(128, num_classes)\n",
    "        self.dropout = nn.Dropout(0.5)\n",
    "    def forward(self, x):\n",
    "        x = F.relu(self.bn1(self.conv1(x)))\n",
    "        x = self.pool1(x)\n",
    "        x = F.relu(self.bn2(self.conv2(x)))\n",
    "        x = self.pool2(x)\n",
    "        x = self.flatten(x)\n",
    "        x = self.dropout(F.relu(self.fc1(x)))\n",
    "        x = self.fc2(x)\n",
    "        return x\n",
    "\n",
    "# Device config (GPU if available)\n",
    "device = torch.device(\"cuda\" if torch.cuda.is_available() else \"cpu\")\n",
    "\n",
    "# === Load Test Data for batch inference ===\n",
    "test_data = pd.read_csv(\"dataset/emnist-byclass-test.csv\", header=None)\n",
    "true_labels = test_data.iloc[:, 0].values  # True labels for checking accuracy\n",
    "images = test_data.iloc[:, 1:].values.reshape(-1,28,28,1).astype('float32') / 255.0\n",
    "images_torch = torch.from_numpy(images).permute(0,3,1,2)\n",
    "\n",
    "# Test transforms (for batch and single images)\n",
    "test_transform = transforms.Compose([\n",
    "    transforms.ToPILImage(),\n",
    "    transforms.ToTensor(),\n",
    "])\n",
    "\n",
    "# === Custom Dataset for Test Images ===\n",
    "from torch.utils.data import Dataset, DataLoader\n",
    "\n",
    "class EMNISTTestDataset(Dataset):\n",
    "    def __init__(self, images, transform=None):\n",
    "        self.images = images\n",
    "        self.transform = transform\n",
    "    def __len__(self):\n",
    "        return len(self.images)\n",
    "    def __getitem__(self, idx):\n",
    "        img_tensor = self.images[idx]\n",
    "        img_np = img_tensor.numpy()\n",
    "        if img_np.ndim == 3 and img_np.shape[0] == 1:\n",
    "            img_np = img_np.squeeze(0)\n",
    "        elif img_np.ndim == 3 and img_np.shape[-1] == 1:\n",
    "            pass\n",
    "        elif img_np.ndim != 2:\n",
    "            raise ValueError(f\"Unexpected image shape: {img_np.shape}\")\n",
    "        if self.transform:\n",
    "            img_out = self.transform(img_np)\n",
    "        else:\n",
    "            img_out = torch.tensor(img_np)\n",
    "        return img_out\n",
    "\n",
    "batch_size = 32\n",
    "test_dataset = EMNISTTestDataset(images_torch, transform=test_transform)\n",
    "test_loader = DataLoader(test_dataset, batch_size=batch_size, shuffle=False)\n",
    "\n",
    "# === Load Trained Model ===\n",
    "num_classes = 62\n",
    "model = CNN(num_classes=num_classes).to(device)\n",
    "model.load_state_dict(torch.load(\"cnn_model.pth\", map_location=device))\n",
    "model.eval()\n",
    "\n",
    "# === Batch Inference ===\n",
    "all_predicted_labels = []\n",
    "with torch.no_grad():\n",
    "    for batch_x in test_loader:\n",
    "        batch_x = batch_x.to(device)\n",
    "        outputs = model(batch_x)\n",
    "        _, predicted = torch.max(outputs.data, 1)\n",
    "        all_predicted_labels.extend(predicted.cpu().numpy())\n",
    "\n",
    "predicted_chars = [label_to_char(lbl) for lbl in all_predicted_labels]\n",
    "\n",
    "# === Check accuracy and print summary ===\n",
    "correct = sum(p == t for p, t in zip(all_predicted_labels, true_labels))\n",
    "total = len(true_labels)\n",
    "accuracy = (correct / total) * 100\n",
    "print(f\"Prediction Accuracy: {accuracy:.2f}%\\n\")\n",
    "\n",
    "# === Save batch predictions to CSV ===\n",
    "output_df = pd.DataFrame({\"Predicted\": predicted_chars})\n",
    "output_df.to_csv(\"emnist_predictions.csv\", index=False)\n"
   ]
  },
  {
   "cell_type": "code",
   "execution_count": 2,
   "id": "98fd4fab",
   "metadata": {},
   "outputs": [],
   "source": [
    "from PIL import Image\n",
    "import numpy as np\n",
    "import torch\n",
    "\n",
    "def predict_character_from_flat(flat_array):\n",
    "    \"\"\"\n",
    "    Predict an EMNIST character from a flat 784-length array (pixels) using a trained model.\n",
    "\n",
    "    Args:\n",
    "        flat_array (list or np.ndarray): Length-784 pixel values (0-255) for a single 28x28 image.\n",
    "\n",
    "    Returns:\n",
    "        str: Predicted character.\n",
    "    \"\"\"\n",
    "    # Step 1: Convert flat array to numpy and reshape to 28x28\n",
    "    img_np = np.array(flat_array, dtype=np.uint8).reshape(28, 28)\n",
    "    \n",
    "    # Step 2: Convert to PIL Image (grayscale)\n",
    "    pil_img = Image.fromarray(img_np)\n",
    "\n",
    "    # Step 4: Resize (redundant here but safe for general use)\n",
    "    pil_img = pil_img.resize((28, 28), Image.Resampling.LANCZOS)\n",
    "    \n",
    "    # Step 5: Convert to tensor, normalize to [0,1]\n",
    "    img_tensor = transforms.ToTensor()(pil_img).unsqueeze(0).to(device) # Add batch dimension\n",
    "    \n",
    "    # Step 6: Model inference\n",
    "    model.eval()\n",
    "    with torch.no_grad():\n",
    "        output = model(img_tensor)\n",
    "        _, predicted_label = torch.max(output.data, 1)\n",
    "        predicted_label = predicted_label.item()\n",
    "    \n",
    "    # Step 7: Decode to character\n",
    "    char = label_to_char(predicted_label)\n",
    "    return char\n",
    "\n"
   ]
  },
  {
   "cell_type": "code",
   "execution_count": 3,
   "id": "072bacb1",
   "metadata": {},
   "outputs": [],
   "source": [
    "import numpy as np\n",
    "import matplotlib.pyplot as plt\n",
    "\n",
    "def show_flat_image(flat_array, cmap='gray'):\n",
    "    \"\"\"\n",
    "    Display a 784-length flat pixel array as a 28x28 image.\n",
    "    Args:\n",
    "        flat_array (list or np.ndarray): Length-784 pixel values (0-255 or normalized 0-1).\n",
    "        cmap (str): Matplotlib color map ('gray' by default).\n",
    "    \"\"\"\n",
    "    if len(flat_array) != 784:\n",
    "        raise ValueError(\"Input array must be of length 784\")\n",
    "    img = np.array(flat_array).reshape(28, 28)\n",
    "    img = np.flipud(np.rot90(img))\n",
    "    plt.imshow(img, cmap=cmap)\n",
    "    plt.axis('off')\n",
    "    plt.show()\n",
    "\n",
    "# Example usage:\n",
    "# test_flat = [13,0,0,0,...]  # Your full array here!\n",
    "# show_flat_image(test_flat)\n"
   ]
  },
  {
   "cell_type": "code",
   "execution_count": 4,
   "id": "aac58724",
   "metadata": {},
   "outputs": [],
   "source": [
    "def pred(img, real_Val):\n",
    "    show_flat_image(img)\n",
    "    print(f\"Real value : \", label_to_char(real_Val))\n",
    "    print(predict_character_from_flat(img))\n",
    "                                    "
   ]
  },
  {
   "cell_type": "code",
   "execution_count": 5,
   "id": "0e487597",
   "metadata": {},
   "outputs": [],
   "source": [
    "def test_random_predictions(csv_path, num_samples=5):\n",
    "    \"\"\"\n",
    "    Picks num_samples random rows from csv, calls pred() for each image.\n",
    "    \"\"\"\n",
    "    data = pd.read_csv(csv_path, header=None)\n",
    "    chosen_indices = np.random.choice(len(data), size=num_samples, replace=False)\n",
    "    for idx in chosen_indices:\n",
    "        row = data.iloc[idx].values\n",
    "        true_label = row[0]\n",
    "        img_flat = row[1:]\n",
    "        pred(img_flat, true_label)\n",
    "\n",
    "        "
   ]
  },
  {
   "cell_type": "code",
   "execution_count": 12,
   "id": "2034f65a",
   "metadata": {},
   "outputs": [
    {
     "data": {
      "image/png": "[encoded data removed]",
      "text/plain": [
       "<Figure size 640x480 with 1 Axes>"
      ]
     },
     "metadata": {},
     "output_type": "display_data"
    },
    {
     "name": "stdout",
     "output_type": "stream",
     "text": [
      "Real value :  7\n",
      "7\n"
     ]
    },
    {
     "data": {
      "image/png": "[encoded data removed]",
      "text/plain": [
       "<Figure size 640x480 with 1 Axes>"
      ]
     },
     "metadata": {},
     "output_type": "display_data"
    },
    {
     "name": "stdout",
     "output_type": "stream",
     "text": [
      "Real value :  b\n",
      "b\n"
     ]
    },
    {
     "data": {
      "image/png": "[encoded data removed]",
      "text/plain": [
       "<Figure size 640x480 with 1 Axes>"
      ]
     },
     "metadata": {},
     "output_type": "display_data"
    },
    {
     "name": "stdout",
     "output_type": "stream",
     "text": [
      "Real value :  8\n",
      "8\n"
     ]
    },
    {
     "data": {
      "image/png": "[encoded data removed]",
      "text/plain": [
       "<Figure size 640x480 with 1 Axes>"
      ]
     },
     "metadata": {},
     "output_type": "display_data"
    },
    {
     "name": "stdout",
     "output_type": "stream",
     "text": [
      "Real value :  x\n",
      "x\n"
     ]
    },
    {
     "data": {
      "image/png": "[encoded data removed]",
      "text/plain": [
       "<Figure size 640x480 with 1 Axes>"
      ]
     },
     "metadata": {},
     "output_type": "display_data"
    },
    {
     "name": "stdout",
     "output_type": "stream",
     "text": [
      "Real value :  8\n",
      "8\n"
     ]
    }
   ],
   "source": [
    "test_random_predictions(\"dataset/emnist-byclass-test.csv\")"
   ]
  },
  {
   "cell_type": "code",
   "execution_count": 7,
   "id": "aa0e321d",
   "metadata": {},
   "outputs": [],
   "source": [
    "from PIL import Image, ImageOps\n",
    "import numpy as np\n",
    "import cv2\n",
    "\n",
    "def preprocess_to_emnist(image_path):\n",
    "    # Load image and convert to grayscale\n",
    "    img = Image.open(image_path).convert('L')\n",
    "\n",
    "    # Invert colors (if background is white)\n",
    "    img = ImageOps.invert(img)\n",
    "\n",
    "    # Resize to 28x28\n",
    "    img = img.resize((28, 28), Image.Resampling.LANCZOS)\n",
    "\n",
    "    # Convert to numpy array\n",
    "    img_np = np.array(img)\n",
    "\n",
    "    # Optional: Center the digit by its moments (like EMNIST style)\n",
    "    # Compute the center of mass\n",
    "    moments = cv2.moments(img_np)\n",
    "    if moments[\"m00\"] != 0:\n",
    "        cx = int(moments[\"m10\"] / moments[\"m00\"])\n",
    "        cy = int(moments[\"m01\"] / moments[\"m00\"])\n",
    "        shiftx = np.round(14 - cx).astype(int)\n",
    "        shifty = np.round(14 - cy).astype(int)\n",
    "        M = np.float32([[1, 0, shiftx], [0, 1, shifty]])\n",
    "        img_np = cv2.warpAffine(img_np, M, (28, 28))\n",
    "\n",
    "    # Normalize to [0,1]\n",
    "    img_np = img_np.astype(np.float32) / 255.0\n",
    "\n",
    "    return img_np\n",
    "\n",
    "def predict_character(image):\n",
    "    \"\"\"\n",
    "    Predict the character from a single handwritten image,\n",
    "    accepts either a file path or a preprocessed numpy array.\n",
    "    \n",
    "    Args:\n",
    "        image (str or np.ndarray or PIL.Image): Image file path OR processed numpy array OR PIL image.\n",
    "    \n",
    "    Returns:\n",
    "        str: Predicted character.\n",
    "    \"\"\"\n",
    "    if isinstance(image, str):\n",
    "        # If a file path, open and preprocess\n",
    "        pil_img = Image.open(image).convert(\"L\")\n",
    "        pil_img = ImageOps.invert(pil_img)\n",
    "        pil_img = pil_img.resize((28, 28), Image.Resampling.LANCZOS)\n",
    "        img_tensor = transforms.ToTensor()(pil_img).unsqueeze(0).to(device)\n",
    "    elif isinstance(image, np.ndarray):\n",
    "        # If numpy array already preprocessed (e.g., 28x28 float)\n",
    "        # Ensure it's in the right shape and type for ToTensor\n",
    "        if image.ndim == 2:\n",
    "            # Convert numpy [0,1] float32 grayscale to PIL Image for consistent transform\n",
    "            pil_img = Image.fromarray((image * 255).astype(np.uint8))\n",
    "            img_tensor = transforms.ToTensor()(pil_img).unsqueeze(0).to(device)\n",
    "        else:\n",
    "            raise ValueError(\"NumPy array should be 2D grayscale image\")\n",
    "    elif isinstance(image, Image.Image):\n",
    "        pil_img = image.convert(\"L\")\n",
    "        img_tensor = transforms.ToTensor()(pil_img).unsqueeze(0).to(device)\n",
    "    else:\n",
    "        raise TypeError(\"Input must be file path (str), numpy array, or PIL Image\")\n",
    "    \n",
    "    model.eval()\n",
    "    with torch.no_grad():\n",
    "        output = model(img_tensor)\n",
    "        _, predicted_label = torch.max(output.data, 1)\n",
    "        predicted_label = predicted_label.item()\n",
    "\n",
    "    return label_to_char(predicted_label)\n"
   ]
  },
  {
   "cell_type": "code",
   "execution_count": null,
   "id": "17967efe",
   "metadata": {},
   "outputs": [],
   "source": []
  }
 ],
 "metadata": {
  "kernelspec": {
   "display_name": "Python 3",
   "language": "python",
   "name": "python3"
  },
  "language_info": {
   "codemirror_mode": {
    "name": "ipython",
    "version": 3
   },
   "file_extension": ".py",
   "mimetype": "text/x-python",
   "name": "python",
   "nbconvert_exporter": "python",
   "pygments_lexer": "ipython3",
   "version": "3.11.9"
  }
 },
 "nbformat": 4,
 "nbformat_minor": 5
}
